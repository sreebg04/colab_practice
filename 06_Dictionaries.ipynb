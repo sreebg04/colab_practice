{
  "nbformat": 4,
  "nbformat_minor": 0,
  "metadata": {
    "colab": {
      "provenance": [],
      "include_colab_link": true
    },
    "kernelspec": {
      "display_name": "Python 3",
      "language": "python",
      "name": "python3"
    },
    "language_info": {
      "codemirror_mode": {
        "name": "ipython",
        "version": 3
      },
      "file_extension": ".py",
      "mimetype": "text/x-python",
      "name": "python",
      "nbconvert_exporter": "python",
      "pygments_lexer": "ipython3",
      "version": "3.9.2"
    }
  },
  "cells": [
    {
      "cell_type": "markdown",
      "metadata": {
        "id": "view-in-github",
        "colab_type": "text"
      },
      "source": [
        "<a href=\"https://colab.research.google.com/github/sreebg04/colab_practice/blob/main/06_Dictionaries.ipynb\" target=\"_parent\"><img src=\"https://colab.research.google.com/assets/colab-badge.svg\" alt=\"Open In Colab\"/></a>"
      ]
    },
    {
      "cell_type": "markdown",
      "metadata": {
        "id": "YEhkTWo1nDz_"
      },
      "source": [
        "# Python Quickstart\n",
        "## Dictionaries"
      ]
    },
    {
      "cell_type": "code",
      "metadata": {
        "id": "88RnxRrRBSJS"
      },
      "source": [
        "#Create a dictionary\n",
        "capitals = {\"INDIA\" : \"New Delhi\", \"USA\" : \"Washington DC\", \"UK\" : \"London\" }"
      ],
      "execution_count": 1,
      "outputs": []
    },
    {
      "cell_type": "code",
      "metadata": {
        "id": "Yb2GxmTRDrss",
        "outputId": "e5bd2b84-5907-41aa-86be-b2f483482775",
        "colab": {
          "base_uri": "https://localhost:8080/",
          "height": 36
        }
      },
      "source": [
        "#Retrive value of a key\n",
        "capitals[\"USA\"]"
      ],
      "execution_count": 2,
      "outputs": [
        {
          "output_type": "execute_result",
          "data": {
            "text/plain": [
              "'Washington DC'"
            ],
            "application/vnd.google.colaboratory.intrinsic+json": {
              "type": "string"
            }
          },
          "metadata": {},
          "execution_count": 2
        }
      ]
    },
    {
      "cell_type": "code",
      "metadata": {
        "id": "TS1KqNtkHBq4",
        "outputId": "18e6beba-2c5d-408b-810d-bf10f3b4c40c",
        "colab": {
          "base_uri": "https://localhost:8080/",
          "height": 36
        }
      },
      "source": [
        "#Retrieve value of a key\n",
        "capitals[\"INDIA\"]"
      ],
      "execution_count": 3,
      "outputs": [
        {
          "output_type": "execute_result",
          "data": {
            "text/plain": [
              "'New Delhi'"
            ],
            "application/vnd.google.colaboratory.intrinsic+json": {
              "type": "string"
            }
          },
          "metadata": {},
          "execution_count": 3
        }
      ]
    },
    {
      "cell_type": "code",
      "metadata": {
        "id": "kTkrYdB-HflQ",
        "outputId": "8a317df1-e89e-4c2f-919f-f3b4c3127d38",
        "colab": {
          "base_uri": "https://localhost:8080/",
          "height": 192
        }
      },
      "source": [
        "#Case sensitive\n",
        "capitals[\"India\"]"
      ],
      "execution_count": 4,
      "outputs": [
        {
          "output_type": "error",
          "ename": "KeyError",
          "evalue": "ignored",
          "traceback": [
            "\u001b[0;31m---------------------------------------------------------------------------\u001b[0m",
            "\u001b[0;31mKeyError\u001b[0m                                  Traceback (most recent call last)",
            "\u001b[0;32m<ipython-input-4-efd167ae77aa>\u001b[0m in \u001b[0;36m<cell line: 2>\u001b[0;34m()\u001b[0m\n\u001b[1;32m      1\u001b[0m \u001b[0;31m#Case sensitive\u001b[0m\u001b[0;34m\u001b[0m\u001b[0;34m\u001b[0m\u001b[0m\n\u001b[0;32m----> 2\u001b[0;31m \u001b[0mcapitals\u001b[0m\u001b[0;34m[\u001b[0m\u001b[0;34m\"India\"\u001b[0m\u001b[0;34m]\u001b[0m\u001b[0;34m\u001b[0m\u001b[0;34m\u001b[0m\u001b[0m\n\u001b[0m",
            "\u001b[0;31mKeyError\u001b[0m: 'India'"
          ]
        }
      ]
    },
    {
      "cell_type": "code",
      "metadata": {
        "id": "zKzS_V9gD60W",
        "outputId": "17643491-cdac-44a2-ced5-fc4ff3abd9d2",
        "colab": {
          "base_uri": "https://localhost:8080/"
        }
      },
      "source": [
        "#Length of a dictionary\n",
        "len(capitals)"
      ],
      "execution_count": 5,
      "outputs": [
        {
          "output_type": "execute_result",
          "data": {
            "text/plain": [
              "3"
            ]
          },
          "metadata": {},
          "execution_count": 5
        }
      ]
    },
    {
      "cell_type": "code",
      "metadata": {
        "id": "dzIM-hUJEBfQ",
        "outputId": "7edb89c3-6f6b-4787-b341-b6898ce689dc",
        "colab": {
          "base_uri": "https://localhost:8080/"
        }
      },
      "source": [
        "#Built-in function to get the keys\n",
        "capitals.keys()"
      ],
      "execution_count": 6,
      "outputs": [
        {
          "output_type": "execute_result",
          "data": {
            "text/plain": [
              "dict_keys(['INDIA', 'USA', 'UK'])"
            ]
          },
          "metadata": {},
          "execution_count": 6
        }
      ]
    },
    {
      "cell_type": "code",
      "metadata": {
        "id": "Ib_V2aNTEQAO",
        "outputId": "f376da5b-30cb-4a8d-9cc2-9d47d5769cfd",
        "colab": {
          "base_uri": "https://localhost:8080/"
        }
      },
      "source": [
        "#Built-in function to get values\n",
        "capitals.values()"
      ],
      "execution_count": 7,
      "outputs": [
        {
          "output_type": "execute_result",
          "data": {
            "text/plain": [
              "dict_values(['New Delhi', 'Washington DC', 'London'])"
            ]
          },
          "metadata": {},
          "execution_count": 7
        }
      ]
    },
    {
      "cell_type": "code",
      "metadata": {
        "id": "OBBNljqvFWvO",
        "outputId": "c16618d3-de79-428e-ef85-3298d737a6d0",
        "colab": {
          "base_uri": "https://localhost:8080/"
        }
      },
      "source": [
        "#Retrive all the key - value pairs\n",
        "capitals.items()"
      ],
      "execution_count": 8,
      "outputs": [
        {
          "output_type": "execute_result",
          "data": {
            "text/plain": [
              "dict_items([('INDIA', 'New Delhi'), ('USA', 'Washington DC'), ('UK', 'London')])"
            ]
          },
          "metadata": {},
          "execution_count": 8
        }
      ]
    },
    {
      "cell_type": "code",
      "metadata": {
        "id": "kvQnx8UlFt0K"
      },
      "source": [
        "#Adding a key - value pair\n",
        "capitals[\"SRI LANKA\"] = \"Colombo\""
      ],
      "execution_count": 9,
      "outputs": []
    },
    {
      "cell_type": "code",
      "metadata": {
        "id": "RIvnOM5SF51Y",
        "outputId": "2532197e-5625-4ce2-de25-50990859cade",
        "colab": {
          "base_uri": "https://localhost:8080/"
        }
      },
      "source": [
        "#New length of dictionary\n",
        "len(capitals)"
      ],
      "execution_count": 10,
      "outputs": [
        {
          "output_type": "execute_result",
          "data": {
            "text/plain": [
              "4"
            ]
          },
          "metadata": {},
          "execution_count": 10
        }
      ]
    },
    {
      "cell_type": "code",
      "metadata": {
        "id": "kQIBmjJ_F-Ru",
        "outputId": "031ce806-da98-4930-add6-2d07cee41681",
        "colab": {
          "base_uri": "https://localhost:8080/"
        }
      },
      "source": [
        "#Order of key-value pairs get changed\n",
        "capitals"
      ],
      "execution_count": 11,
      "outputs": [
        {
          "output_type": "execute_result",
          "data": {
            "text/plain": [
              "{'INDIA': 'New Delhi',\n",
              " 'USA': 'Washington DC',\n",
              " 'UK': 'London',\n",
              " 'SRI LANKA': 'Colombo'}"
            ]
          },
          "metadata": {},
          "execution_count": 11
        }
      ]
    },
    {
      "cell_type": "code",
      "metadata": {
        "id": "xmpY8CaeOT0U"
      },
      "source": [
        "capitals[\"AFGHANISTAN\"] = \"Kabul\""
      ],
      "execution_count": 12,
      "outputs": []
    },
    {
      "cell_type": "code",
      "metadata": {
        "id": "jCdte-XHOd6o"
      },
      "source": [
        "#Update an existing dictionary\n",
        "capitals[\"AFGHANISTAN\"] = \"KABUL\""
      ],
      "execution_count": 13,
      "outputs": []
    },
    {
      "cell_type": "code",
      "metadata": {
        "id": "2uLlL38nPIRE",
        "outputId": "b4da8914-125a-4cbb-c2b5-754c7fe0bb19",
        "colab": {
          "base_uri": "https://localhost:8080/"
        }
      },
      "source": [
        "capitals"
      ],
      "execution_count": 14,
      "outputs": [
        {
          "output_type": "execute_result",
          "data": {
            "text/plain": [
              "{'INDIA': 'New Delhi',\n",
              " 'USA': 'Washington DC',\n",
              " 'UK': 'London',\n",
              " 'SRI LANKA': 'Colombo',\n",
              " 'AFGHANISTAN': 'KABUL'}"
            ]
          },
          "metadata": {},
          "execution_count": 14
        }
      ]
    },
    {
      "cell_type": "code",
      "metadata": {
        "id": "FBW2K6khGBwm"
      },
      "source": [
        "# keys can be tuples\n",
        "capitals[(23,45)] = \"Number\""
      ],
      "execution_count": 15,
      "outputs": []
    },
    {
      "cell_type": "code",
      "metadata": {
        "id": "TfYMEBI3LYCc",
        "outputId": "a81f06d9-0496-4d0e-d5ed-4574303b07a3",
        "colab": {
          "base_uri": "https://localhost:8080/"
        }
      },
      "source": [
        "capitals"
      ],
      "execution_count": 16,
      "outputs": [
        {
          "output_type": "execute_result",
          "data": {
            "text/plain": [
              "{'INDIA': 'New Delhi',\n",
              " 'USA': 'Washington DC',\n",
              " 'UK': 'London',\n",
              " 'SRI LANKA': 'Colombo',\n",
              " 'AFGHANISTAN': 'KABUL',\n",
              " (23, 45): 'Number'}"
            ]
          },
          "metadata": {},
          "execution_count": 16
        }
      ]
    },
    {
      "cell_type": "code",
      "metadata": {
        "id": "RjmV9Re6LYyO",
        "outputId": "67a71f9a-ccdc-4167-f241-dc0d8f5e17a3",
        "colab": {
          "base_uri": "https://localhost:8080/"
        }
      },
      "source": [
        "for k in capitals.keys():\n",
        "  print (capitals[k])"
      ],
      "execution_count": 17,
      "outputs": [
        {
          "output_type": "stream",
          "name": "stdout",
          "text": [
            "New Delhi\n",
            "Washington DC\n",
            "London\n",
            "Colombo\n",
            "KABUL\n",
            "Number\n"
          ]
        }
      ]
    },
    {
      "cell_type": "code",
      "metadata": {
        "id": "0dbkuLt-OB_A",
        "outputId": "b91da79b-4acd-4bf0-c520-bc14cb37cabf",
        "colab": {
          "base_uri": "https://localhost:8080/"
        }
      },
      "source": [
        "for k in capitals.keys():\n",
        "  print (k, capitals[k])"
      ],
      "execution_count": 18,
      "outputs": [
        {
          "output_type": "stream",
          "name": "stdout",
          "text": [
            "INDIA New Delhi\n",
            "USA Washington DC\n",
            "UK London\n",
            "SRI LANKA Colombo\n",
            "AFGHANISTAN KABUL\n",
            "(23, 45) Number\n"
          ]
        }
      ]
    },
    {
      "cell_type": "code",
      "metadata": {
        "id": "KUYGcfrWOGzM"
      },
      "source": [
        "#Letter count\n",
        "letterCount = {}"
      ],
      "execution_count": 19,
      "outputs": []
    },
    {
      "cell_type": "code",
      "metadata": {
        "id": "BbHaNYTYP3MY"
      },
      "source": [
        "s = '''TalentSprint is a digital platform designed to transform\n",
        "the lives of professionals in the new economy. Its blended bootcamps\n",
        "offer deeptech skills.'''"
      ],
      "execution_count": 20,
      "outputs": []
    },
    {
      "cell_type": "code",
      "metadata": {
        "id": "hgdeGHePRAMK"
      },
      "source": [
        "for ch in s :\n",
        "  ch = ch.lower()\n",
        "  if ch not in letterCount:\n",
        "    letterCount[ch] = 1\n",
        "  else:\n",
        "    letterCount[ch] += 1"
      ],
      "execution_count": 21,
      "outputs": []
    },
    {
      "cell_type": "code",
      "metadata": {
        "id": "SYg7ARPLRkZy",
        "outputId": "8e6a9bc6-abfe-4219-d6e0-8048cdc22557",
        "colab": {
          "base_uri": "https://localhost:8080/"
        }
      },
      "source": [
        "letterCount"
      ],
      "execution_count": 22,
      "outputs": [
        {
          "output_type": "execute_result",
          "data": {
            "text/plain": [
              "{'t': 12,\n",
              " 'a': 7,\n",
              " 'l': 8,\n",
              " 'e': 15,\n",
              " 'n': 9,\n",
              " 's': 12,\n",
              " 'p': 5,\n",
              " 'r': 6,\n",
              " 'i': 10,\n",
              " ' ': 20,\n",
              " 'd': 6,\n",
              " 'g': 2,\n",
              " 'f': 6,\n",
              " 'o': 11,\n",
              " 'm': 4,\n",
              " '\\n': 2,\n",
              " 'h': 3,\n",
              " 'v': 1,\n",
              " 'w': 1,\n",
              " 'c': 3,\n",
              " 'y': 1,\n",
              " '.': 2,\n",
              " 'b': 2,\n",
              " 'k': 1}"
            ]
          },
          "metadata": {},
          "execution_count": 22
        }
      ]
    },
    {
      "cell_type": "code",
      "metadata": {
        "id": "IbUJKNpBRu9s"
      },
      "source": [
        "letterCount.keys()"
      ],
      "execution_count": null,
      "outputs": []
    },
    {
      "cell_type": "markdown",
      "metadata": {
        "id": "J_aqrtCHQe0p"
      },
      "source": [
        "### collections\n",
        "#### Counter"
      ]
    },
    {
      "cell_type": "code",
      "metadata": {
        "id": "El5bCM4sQe0q",
        "outputId": "a0f134ab-5694-4dab-8dc3-ea78b3e098b5",
        "colab": {
          "base_uri": "https://localhost:8080/"
        }
      },
      "source": [
        "import collections\n",
        "## Create a new Counter() object called frequencies\n",
        "frequencies = collections.Counter()\n",
        "\n",
        "## iterate through each letter in the sentence\n",
        "for letter in s:\n",
        "\n",
        "    ## update the frequencies object with each letter.\n",
        "    ## the bookkeeping is done by the Counter()\n",
        "    frequencies.update(letter)\n",
        "\n",
        "print(frequencies)"
      ],
      "execution_count": 23,
      "outputs": [
        {
          "output_type": "stream",
          "name": "stdout",
          "text": [
            "Counter({' ': 20, 'e': 15, 't': 11, 's': 11, 'o': 11, 'n': 9, 'i': 9, 'l': 8, 'a': 7, 'r': 6, 'd': 6, 'f': 6, 'p': 5, 'm': 4, 'h': 3, 'c': 3, 'g': 2, '\\n': 2, '.': 2, 'b': 2, 'T': 1, 'S': 1, 'v': 1, 'w': 1, 'y': 1, 'I': 1, 'k': 1})\n"
          ]
        }
      ]
    },
    {
      "cell_type": "markdown",
      "metadata": {
        "id": "19VxiT4kQe0q"
      },
      "source": [
        "As you can see the Counter() made it very simple to calculate the frequencies. It has a minor flaw. It is not likely that we want to count upper case and lower case letters separately. We make the change below:"
      ]
    },
    {
      "cell_type": "code",
      "metadata": {
        "id": "_mkrDQF1Qe0q",
        "outputId": "924c574b-5a5f-48cd-d1c5-1887028054b6",
        "colab": {
          "base_uri": "https://localhost:8080/"
        }
      },
      "source": [
        "import collections\n",
        "\n",
        "## Create a new Counter() object called frequencies\n",
        "frequencies = collections.Counter()\n",
        "\n",
        "## iterate through each letter in the sentence\n",
        "for letter in s:\n",
        "\n",
        "    ## update the frequencies object with each letter.\n",
        "    ## the bookkeeping is done by the Counter()\n",
        "    ## convert letter to lower case first\n",
        "    frequencies.update(letter.lower())\n",
        "\n",
        "print(frequencies)"
      ],
      "execution_count": 24,
      "outputs": [
        {
          "output_type": "stream",
          "name": "stdout",
          "text": [
            "Counter({' ': 20, 'e': 15, 't': 12, 's': 12, 'o': 11, 'i': 10, 'n': 9, 'l': 8, 'a': 7, 'r': 6, 'd': 6, 'f': 6, 'p': 5, 'm': 4, 'h': 3, 'c': 3, 'g': 2, '\\n': 2, '.': 2, 'b': 2, 'v': 1, 'w': 1, 'y': 1, 'k': 1})\n"
          ]
        }
      ]
    },
    {
      "cell_type": "markdown",
      "metadata": {
        "id": "fXmE7UVUQe0r"
      },
      "source": [
        "By the way, Counter() is smart enough to count the individual elements, if a sequence of them is given. So we can do the above much more simply!"
      ]
    },
    {
      "cell_type": "code",
      "metadata": {
        "id": "HCaDhJQHQe0s"
      },
      "source": [
        "import collections\n",
        "frequencies = collections.Counter(s.lower())\n",
        "\n",
        "print(frequencies)"
      ],
      "execution_count": null,
      "outputs": []
    },
    {
      "cell_type": "markdown",
      "metadata": {
        "id": "zYorgrCzQe0s"
      },
      "source": [
        "Counter offers a lot more functionality"
      ]
    },
    {
      "cell_type": "code",
      "metadata": {
        "id": "Bg82GDTUQe0s",
        "outputId": "0bf22f2d-34e1-4598-ed74-a37be09028ce",
        "colab": {
          "base_uri": "https://localhost:8080/"
        }
      },
      "source": [
        "lett_freq = collections.Counter(s.lower())\n",
        "lett_freq.most_common(5)"
      ],
      "execution_count": 26,
      "outputs": [
        {
          "output_type": "execute_result",
          "data": {
            "text/plain": [
              "[(' ', 20), ('e', 15), ('t', 12), ('s', 12), ('o', 11)]"
            ]
          },
          "metadata": {},
          "execution_count": 26
        }
      ]
    },
    {
      "cell_type": "markdown",
      "metadata": {
        "id": "B3oK1H1RQe0t"
      },
      "source": [
        "As you can see we fed a sentence and got back the top-5 frequently occurring characters, with their frequencies. So let us now write a function that finds the most frequently occurring **letter** in a given sentence."
      ]
    },
    {
      "cell_type": "code",
      "metadata": {
        "id": "1op0EYuMQe0t"
      },
      "source": [
        "def mostFreqLetter(s):\n",
        "    import collections\n",
        "    freq = collections.Counter()\n",
        "    for ch in s:\n",
        "        ch = ch.lower()\n",
        "        if 'a' <= ch <= 'z':\n",
        "            freq.update(ch)\n",
        "    return freq.most_common(1)[0]"
      ],
      "execution_count": 27,
      "outputs": []
    },
    {
      "cell_type": "code",
      "metadata": {
        "id": "FlcLCUXLQe0u",
        "outputId": "e1181423-12b3-4741-9409-f5f5f6cc6475",
        "colab": {
          "base_uri": "https://localhost:8080/"
        }
      },
      "source": [
        "mostFreqLetter(\"Old brother fox jumps over the lzay dog in this pangram of English\")"
      ],
      "execution_count": 29,
      "outputs": [
        {
          "output_type": "execute_result",
          "data": {
            "text/plain": [
              "('o', 6)"
            ]
          },
          "metadata": {},
          "execution_count": 29
        }
      ]
    },
    {
      "cell_type": "markdown",
      "metadata": {
        "id": "D9HM0UkFQe0u"
      },
      "source": [
        "**Counter() cannot count individual floats or integers**"
      ]
    },
    {
      "cell_type": "code",
      "metadata": {
        "id": "9OlpsseNQe0u",
        "outputId": "f2d37cfa-27b5-4789-8bd5-9e2de6761b14",
        "colab": {
          "base_uri": "https://localhost:8080/",
          "height": 349
        }
      },
      "source": [
        "f = [8, 1.2, 1.6, 3.2, 1, 1.2, 5, 600, 1, 3, 1.2, ]\n",
        "import collections\n",
        "freq = collections.Counter()\n",
        "for n in f:\n",
        "    freq.update(n)\n",
        "print(freq)"
      ],
      "execution_count": 30,
      "outputs": [
        {
          "output_type": "error",
          "ename": "TypeError",
          "evalue": "ignored",
          "traceback": [
            "\u001b[0;31m---------------------------------------------------------------------------\u001b[0m",
            "\u001b[0;31mTypeError\u001b[0m                                 Traceback (most recent call last)",
            "\u001b[0;32m<ipython-input-30-9e7e5352c7b7>\u001b[0m in \u001b[0;36m<cell line: 4>\u001b[0;34m()\u001b[0m\n\u001b[1;32m      3\u001b[0m \u001b[0mfreq\u001b[0m \u001b[0;34m=\u001b[0m \u001b[0mcollections\u001b[0m\u001b[0;34m.\u001b[0m\u001b[0mCounter\u001b[0m\u001b[0;34m(\u001b[0m\u001b[0;34m)\u001b[0m\u001b[0;34m\u001b[0m\u001b[0;34m\u001b[0m\u001b[0m\n\u001b[1;32m      4\u001b[0m \u001b[0;32mfor\u001b[0m \u001b[0mn\u001b[0m \u001b[0;32min\u001b[0m \u001b[0mf\u001b[0m\u001b[0;34m:\u001b[0m\u001b[0;34m\u001b[0m\u001b[0;34m\u001b[0m\u001b[0m\n\u001b[0;32m----> 5\u001b[0;31m     \u001b[0mfreq\u001b[0m\u001b[0;34m.\u001b[0m\u001b[0mupdate\u001b[0m\u001b[0;34m(\u001b[0m\u001b[0mn\u001b[0m\u001b[0;34m)\u001b[0m\u001b[0;34m\u001b[0m\u001b[0;34m\u001b[0m\u001b[0m\n\u001b[0m\u001b[1;32m      6\u001b[0m \u001b[0mprint\u001b[0m\u001b[0;34m(\u001b[0m\u001b[0mfreq\u001b[0m\u001b[0;34m)\u001b[0m\u001b[0;34m\u001b[0m\u001b[0;34m\u001b[0m\u001b[0m\n",
            "\u001b[0;32m/usr/lib/python3.10/collections/__init__.py\u001b[0m in \u001b[0;36mupdate\u001b[0;34m(self, iterable, **kwds)\u001b[0m\n\u001b[1;32m    668\u001b[0m                     \u001b[0msuper\u001b[0m\u001b[0;34m(\u001b[0m\u001b[0;34m)\u001b[0m\u001b[0;34m.\u001b[0m\u001b[0mupdate\u001b[0m\u001b[0;34m(\u001b[0m\u001b[0miterable\u001b[0m\u001b[0;34m)\u001b[0m\u001b[0;34m\u001b[0m\u001b[0;34m\u001b[0m\u001b[0m\n\u001b[1;32m    669\u001b[0m             \u001b[0;32melse\u001b[0m\u001b[0;34m:\u001b[0m\u001b[0;34m\u001b[0m\u001b[0;34m\u001b[0m\u001b[0m\n\u001b[0;32m--> 670\u001b[0;31m                 \u001b[0m_count_elements\u001b[0m\u001b[0;34m(\u001b[0m\u001b[0mself\u001b[0m\u001b[0;34m,\u001b[0m \u001b[0miterable\u001b[0m\u001b[0;34m)\u001b[0m\u001b[0;34m\u001b[0m\u001b[0;34m\u001b[0m\u001b[0m\n\u001b[0m\u001b[1;32m    671\u001b[0m         \u001b[0;32mif\u001b[0m \u001b[0mkwds\u001b[0m\u001b[0;34m:\u001b[0m\u001b[0;34m\u001b[0m\u001b[0;34m\u001b[0m\u001b[0m\n\u001b[1;32m    672\u001b[0m             \u001b[0mself\u001b[0m\u001b[0;34m.\u001b[0m\u001b[0mupdate\u001b[0m\u001b[0;34m(\u001b[0m\u001b[0mkwds\u001b[0m\u001b[0;34m)\u001b[0m\u001b[0;34m\u001b[0m\u001b[0;34m\u001b[0m\u001b[0m\n",
            "\u001b[0;31mTypeError\u001b[0m: 'int' object is not iterable"
          ]
        }
      ]
    },
    {
      "cell_type": "markdown",
      "metadata": {
        "id": "afLMKuwLQe0u"
      },
      "source": [
        "But this will work"
      ]
    },
    {
      "cell_type": "code",
      "metadata": {
        "id": "M55v5Lj7Qe0u",
        "outputId": "6414145f-1dec-4c68-8db2-ec5c13db653a",
        "colab": {
          "base_uri": "https://localhost:8080/"
        }
      },
      "source": [
        "f = [8, 1.2, 1.6, 3.2, 1, 1.2, 5, 600, 1, 3, 1.2, ]\n",
        "import collections\n",
        "freq = collections.Counter()\n",
        "freq.update(f)\n",
        "print(freq)\n",
        "print(freq.most_common(2))"
      ],
      "execution_count": 31,
      "outputs": [
        {
          "output_type": "stream",
          "name": "stdout",
          "text": [
            "Counter({1.2: 3, 1: 2, 8: 1, 1.6: 1, 3.2: 1, 5: 1, 600: 1, 3: 1})\n",
            "[(1.2, 3), (1, 2)]\n"
          ]
        }
      ]
    }
  ]
}