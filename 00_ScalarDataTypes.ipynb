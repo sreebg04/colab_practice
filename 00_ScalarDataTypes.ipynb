{
  "nbformat": 4,
  "nbformat_minor": 0,
  "metadata": {
    "colab": {
      "provenance": [],
      "include_colab_link": true
    },
    "kernelspec": {
      "display_name": "Python 3",
      "language": "python",
      "name": "python3"
    },
    "language_info": {
      "codemirror_mode": {
        "name": "ipython",
        "version": 3
      },
      "file_extension": ".py",
      "mimetype": "text/x-python",
      "name": "python",
      "nbconvert_exporter": "python",
      "pygments_lexer": "ipython3",
      "version": "3.9.2"
    }
  },
  "cells": [
    {
      "cell_type": "markdown",
      "metadata": {
        "id": "view-in-github",
        "colab_type": "text"
      },
      "source": [
        "<a href=\"https://colab.research.google.com/github/sreebg04/colab_practice/blob/main/00_ScalarDataTypes.ipynb\" target=\"_parent\"><img src=\"https://colab.research.google.com/assets/colab-badge.svg\" alt=\"Open In Colab\"/></a>"
      ]
    },
    {
      "cell_type": "markdown",
      "metadata": {
        "id": "1n0x0UNgsS2k"
      },
      "source": [
        "# Python Quickstart"
      ]
    },
    {
      "cell_type": "markdown",
      "metadata": {
        "id": "_EO_XgDNsS2o"
      },
      "source": [
        "## Scalar Data Types and Operations\n",
        "Python has four scalar data types:\n",
        "  * Integer\n",
        "  * Float\n",
        "  * Boolean\n",
        "  * Complex\n",
        "  \n",
        "We will review these in this notebook"
      ]
    },
    {
      "cell_type": "markdown",
      "metadata": {
        "id": "SN8LD46qsS2r"
      },
      "source": [
        "#### Integers\n",
        "The usual arithmetic operators are available: + for addition, - for subtraction and * for multiplication."
      ]
    },
    {
      "cell_type": "code",
      "metadata": {
        "id": "qKeyOlOzsS2t"
      },
      "source": [
        "print(2 + 4)\n",
        "print(12878 + 1)\n",
        "print(7 - 3)\n",
        "print(127 - 128)\n",
        "print(8 * 6)\n",
        "print(17 * 12)"
      ],
      "execution_count": null,
      "outputs": []
    },
    {
      "cell_type": "markdown",
      "metadata": {
        "id": "06Il024lsS22"
      },
      "source": [
        "There are *two* division operators: / for everyday (float) division and // for truncating (integer) division"
      ]
    },
    {
      "cell_type": "code",
      "metadata": {
        "id": "6aK-b8Y2sS24"
      },
      "source": [
        "print(17 / 4)\n",
        "print(17 // 4)"
      ],
      "execution_count": null,
      "outputs": []
    },
    {
      "cell_type": "markdown",
      "metadata": {
        "id": "9OOQ7zvPsS3A"
      },
      "source": [
        "The modulo operator % and the exponentiation operator ** are also available."
      ]
    },
    {
      "cell_type": "code",
      "metadata": {
        "id": "35CmYM9wsS3C"
      },
      "source": [
        "print(18 % 3)\n",
        "print(72 % 5)"
      ],
      "execution_count": null,
      "outputs": []
    },
    {
      "cell_type": "markdown",
      "metadata": {
        "id": "e6h2Kk45sS3J"
      },
      "source": [
        "The usual operator precedence rules and use of parentheses to override that are available"
      ]
    },
    {
      "cell_type": "code",
      "metadata": {
        "id": "gHaHUE6KsS3K"
      },
      "source": [
        "print(10 ** 2 * 7 - 3)\n",
        "print(10 ** (2 * 7) - 3)\n",
        "print(10 ** (2 * 7 - 3))"
      ],
      "execution_count": null,
      "outputs": []
    },
    {
      "cell_type": "markdown",
      "metadata": {
        "id": "7LovUrwAKcfo"
      },
      "source": [
        "Python integers are not limited to any upper limit"
      ]
    },
    {
      "cell_type": "code",
      "metadata": {
        "id": "iCK8wuAJsS3V"
      },
      "source": [
        "a = 123456789\n",
        "b = a ** 2\n",
        "c = b ** 3\n",
        "d = c ** 5\n",
        "e = d ** 7\n",
        "print(e)"
      ],
      "execution_count": null,
      "outputs": []
    },
    {
      "cell_type": "markdown",
      "metadata": {
        "id": "0dn0wQcgsS3c"
      },
      "source": [
        "##### Assignment operators\n",
        "The standard assignment operators are available. That is,  $\\alpha$  $\\odot=\\beta$ is a shorthand for $\\alpha = \\alpha \\odot \\beta$\n",
        "where $\\odot$ is any binary arithmetic operator we saw above"
      ]
    },
    {
      "cell_type": "code",
      "metadata": {
        "id": "L5fVA3cbsS3d"
      },
      "source": [
        "a = 12\n",
        "b = 5\n",
        "a += b\n",
        "print(a, b)\n",
        "a -= b\n",
        "print(a, b)\n",
        "a *= b\n",
        "print(a, b)"
      ],
      "execution_count": null,
      "outputs": []
    },
    {
      "cell_type": "markdown",
      "metadata": {
        "id": "CRojcyvEsS3k"
      },
      "source": [
        "#### Boolean\n",
        "The two constants True and False are defined.\n",
        "\n",
        "The usual boolean operators are also available: ==, !=, >, >=, <, <="
      ]
    },
    {
      "cell_type": "code",
      "metadata": {
        "id": "iIiWZ9hVsS3n"
      },
      "source": [
        "a = 12\n",
        "b = 13\n",
        "print(a == b - 1,a == b, a != b, a < b, a >= b)"
      ],
      "execution_count": null,
      "outputs": []
    },
    {
      "cell_type": "markdown",
      "metadata": {
        "id": "SLP12ZVZKUx1"
      },
      "source": [
        "Python also has a nice extension for boolean operators"
      ]
    },
    {
      "cell_type": "code",
      "metadata": {
        "id": "F0ZQfYf6KUx1"
      },
      "source": [
        "a < b < 20"
      ],
      "execution_count": null,
      "outputs": []
    },
    {
      "cell_type": "markdown",
      "metadata": {
        "id": "jly-_eC9sS3u"
      },
      "source": [
        "#### Float\n",
        "Python has a float datatype (and it is the same as C's double!) and the above operations are available"
      ]
    },
    {
      "cell_type": "code",
      "metadata": {
        "id": "RjQ5ftEmsS3z"
      },
      "source": [
        "a = 12.9\n",
        "b = 3.6\n",
        "c = a + b\n",
        "d = a - b\n",
        "e = a * b #Watch out for the round off error!\n",
        "f = a / b\n",
        "print(a, b, c, d, e, f, sep=\"\\n\")"
      ],
      "execution_count": null,
      "outputs": []
    },
    {
      "cell_type": "code",
      "metadata": {
        "id": "fcoYmB9fsS3-"
      },
      "source": [
        "##### UNDERSTAND FLOATING POINT IS ALWAYS APPROXIMATE!\n",
        "print(2/3)\n",
        "##### NEVER COMPARE floats FOR EQUALITY\n",
        "print(12.9 * 3.6 == 46.44)\n",
        "print(12.9 * 3.6 - 46.44)\n",
        "EPSILON = 0.0000001\n",
        "print(abs(12.9 * 3.6 - 46.44) <= EPSILON)"
      ],
      "execution_count": null,
      "outputs": []
    },
    {
      "cell_type": "markdown",
      "metadata": {
        "id": "p2labHwQsS4F"
      },
      "source": [
        "#### Complex\n",
        "Complex numbers are built-in"
      ]
    },
    {
      "cell_type": "code",
      "metadata": {
        "id": "Dz3Ub5RosS4G"
      },
      "source": [
        "z = 3 - 4j\n",
        "print(z, z.real, z.imag, abs(z), sep=\"\\n\")"
      ],
      "execution_count": null,
      "outputs": []
    },
    {
      "cell_type": "code",
      "metadata": {
        "id": "r83i-IAqsS4L"
      },
      "source": [
        "x = 5 + 12j"
      ],
      "execution_count": null,
      "outputs": []
    },
    {
      "cell_type": "code",
      "metadata": {
        "id": "QTIr1OZ0sS4S"
      },
      "source": [
        "print(z + x, z - x, z * x, x / z, sep=\"\\n\")"
      ],
      "execution_count": null,
      "outputs": []
    },
    {
      "cell_type": "markdown",
      "metadata": {
        "id": "GWzDnyjjsS4Y"
      },
      "source": [
        "#### Variables\n",
        "We have been using variables already. Python variable naming rules are simple and similar to all major programming languages\n",
        " * must start with a letter\n",
        " * can have letters, numbers and underscore\n",
        " * case sensitive\n",
        "\n",
        "*Note that we need not declare variables but using an undefined variable is an error*"
      ]
    },
    {
      "cell_type": "code",
      "metadata": {
        "id": "1hclSpY0sS4Z"
      },
      "source": [
        "z = 3 - 4*p"
      ],
      "execution_count": null,
      "outputs": []
    },
    {
      "cell_type": "markdown",
      "metadata": {
        "id": "nOw_C3fMKUx5"
      },
      "source": [
        "Unicode variable names are available"
      ]
    },
    {
      "cell_type": "code",
      "metadata": {
        "id": "NOLzkVdQKUx5"
      },
      "source": [
        "a = 5\n",
        "b = 6\n",
        "c = -7\n",
        "\n",
        "α = (-b + (b * b - 4 * a * c) ** 0.5)/2 * a\n",
        "β = (-b - (b * b - 4 * a * c) ** 0.5)/2 * a\n",
        "\n",
        "print(f\"The two roots of {a}x^2 + {b}x {c} are {α:.5} and {β:.5}\")"
      ],
      "execution_count": null,
      "outputs": []
    },
    {
      "cell_type": "markdown",
      "metadata": {
        "id": "97OLR8PEKUx6"
      },
      "source": [
        "The above formatting is known as f-strings. You can read about it here: https://docs.python.org/3.7/tutorial/inputoutput.html#formatted-string-literals"
      ]
    },
    {
      "cell_type": "code",
      "metadata": {
        "id": "YoAGqWmIKUx6"
      },
      "source": [],
      "execution_count": null,
      "outputs": []
    }
  ]
}